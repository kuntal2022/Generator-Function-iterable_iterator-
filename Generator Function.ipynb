{
 "cells": [
  {
   "cell_type": "markdown",
   "id": "bf45f48d",
   "metadata": {},
   "source": [
    "# Generator Function "
   ]
  },
  {
   "cell_type": "markdown",
   "id": "0df8fefb",
   "metadata": {},
   "source": [
    "#### A range function create a range of value and if we wish to print it through a for loop, the result will be printing of the sequence of  0 to N range values:\n",
    "example is given below"
   ]
  },
  {
   "cell_type": "code",
   "execution_count": 11,
   "id": "fec45e6d",
   "metadata": {},
   "outputs": [
    {
     "name": "stdout",
     "output_type": "stream",
     "text": [
      "0\n",
      "1\n",
      "2\n",
      "3\n",
      "4\n",
      "5\n",
      "6\n",
      "7\n",
      "8\n",
      "9\n"
     ]
    }
   ],
   "source": [
    "def range_1(n):\n",
    "    for i in range(0,n):\n",
    "        \n",
    "        print(i)\n",
    "range_1(10)"
   ]
  },
  {
   "cell_type": "markdown",
   "id": "07c48c47",
   "metadata": {},
   "source": [
    "#### This method will consume more memory as it is returning all the numbers all together. \n",
    "\n",
    "\n",
    "#### To avoid the memory consumtion problem we can use GENERATOR function which will help to print up to which number we want to see.\n",
    "\n",
    "Example: \n",
    "\n",
    "Geting a Range of Value 0-100 and printing only first 5 values"
   ]
  },
  {
   "cell_type": "code",
   "execution_count": 48,
   "id": "56557785",
   "metadata": {},
   "outputs": [
    {
     "name": "stdout",
     "output_type": "stream",
     "text": [
      "It will not print anything but the object type see below\n",
      "\n",
      "<generator object test1_range at 0x0000027BE1C46190>\n",
      "################################################################################\n",
      "\n",
      "Upon calling the object with next key word it will print the range of the number one by one see below\n",
      "\n",
      "0\n",
      "1\n",
      "2\n",
      "3\n",
      "4\n",
      "\n",
      "Like this we can print all the numbers in the range with proper sequence\n"
     ]
    }
   ],
   "source": [
    "# cretae the function \n",
    "def test1_range(n):\n",
    "    for i in range (0,n):\n",
    "        \n",
    "        yield i       # in place of return provide (yield) key word\n",
    "        \n",
    "\n",
    "#create an object of the function\n",
    "g1=test1_range(100)\n",
    "print(\"It will not print anything but the object type see below\\n\")\n",
    "print(g1) # it will not print anything but the object type\n",
    "print(\"#\"*80)\n",
    "print()\n",
    "\n",
    "print(\"Upon calling the object with next key word it will print the range of the number one by one see below\\n\")\n",
    "print(next(g1))\n",
    "print(next(g1))\n",
    "print(next(g1))\n",
    "print(next(g1))\n",
    "print(next(g1))\n",
    "print()\n",
    "\n",
    "print(\"Like this we can print all the numbers in the range with proper sequence\")"
   ]
  },
  {
   "cell_type": "markdown",
   "id": "1aa07e17",
   "metadata": {},
   "source": [
    "### Creating a Fibonaci series with generator Function and printing first 10 numbers one by one then print rest numbers in one go"
   ]
  },
  {
   "cell_type": "code",
   "execution_count": 57,
   "id": "1141c687",
   "metadata": {},
   "outputs": [
    {
     "name": "stdout",
     "output_type": "stream",
     "text": [
      "0\n",
      "1\n",
      "1\n",
      "2\n",
      "3\n",
      "5\n",
      "8\n",
      "13\n",
      "21\n",
      "34\n",
      "********************************************************************************\n",
      "\n",
      "Getting remaining numbers in one go\n",
      "\n",
      "55\n",
      "89\n",
      "144\n",
      "233\n",
      "377\n",
      "610\n",
      "987\n",
      "1597\n",
      "2584\n",
      "4181\n"
     ]
    }
   ],
   "source": [
    "# create the function\n",
    "def test1_fib(n):\n",
    "    a, b= 0, 1\n",
    "    for i in range(0,n):\n",
    "        yield a\n",
    "        a,b=b, a+b\n",
    "\n",
    "g2=test1_fib(20) # create the object\n",
    "print(next(g2)) # printing one by one\n",
    "print(next(g2))\n",
    "print(next(g2))\n",
    "print(next(g2))\n",
    "print(next(g2))\n",
    "print(next(g2))\n",
    "print(next(g2))\n",
    "print(next(g2))\n",
    "print(next(g2))\n",
    "print(next(g2))\n",
    "\n",
    "print(\"*\"*80)\n",
    "print()\n",
    "print(\"Getting remaining numbers in one go\\n\")\n",
    "for remaining in g2: # Getting remaining numbers in one go\n",
    "    print(remaining)\n",
    "    \n",
    "\n"
   ]
  },
  {
   "cell_type": "markdown",
   "id": "99f53499",
   "metadata": {},
   "source": [
    "### String in Generator function and print 6 words one by one"
   ]
  },
  {
   "cell_type": "code",
   "execution_count": 63,
   "id": "0d188b01",
   "metadata": {},
   "outputs": [
    {
     "name": "stdout",
     "output_type": "stream",
     "text": [
      "P\n",
      "y\n",
      "t\n",
      "h\n",
      "o\n",
      "n\n"
     ]
    }
   ],
   "source": [
    "# create the function \n",
    "def test_3_string(string):\n",
    "    for i in iter(string): # making the string as iterator \n",
    "        yield (i)\n",
    "        \n",
    "        \n",
    "g3= test_3_string(\"Python Anaconda\") # creating the generator object\n",
    "print(next(g3))\n",
    "print(next(g3))\n",
    "print(next(g3))\n",
    "print(next(g3))\n",
    "print(next(g3))\n",
    "print(next(g3))\n"
   ]
  },
  {
   "cell_type": "markdown",
   "id": "d5cc91f2",
   "metadata": {},
   "source": [
    "# Iterator\n",
    "\n",
    "An iterator is an object (like a pointer) that points to an element inside the container. We can use iterators to move through the contents of the container.\n",
    "\n",
    "\n",
    "\n",
    "# Iterable \n",
    "\n",
    "The objects which can be converted to an Iterator are called Iterable \n",
    "example : string, list, tuples, set, dict\n",
    "\n",
    "### Note: \n",
    "###### Numbers are not iterable\n",
    "###### Space is not iterable\n"
   ]
  },
  {
   "cell_type": "markdown",
   "id": "11cdf3e3",
   "metadata": {},
   "source": [
    "### How to convert an Iterable to Iterator  ?\n",
    "ans: \n",
    "\n",
    "Type casting with iter inbuilt function"
   ]
  },
  {
   "cell_type": "code",
   "execution_count": 67,
   "id": "595d6c84",
   "metadata": {},
   "outputs": [
    {
     "name": "stdout",
     "output_type": "stream",
     "text": [
      "Before type casting\n",
      "\n",
      "<class 'str'>\n",
      "********************************************************************************\n",
      "After type casting\n"
     ]
    },
    {
     "data": {
      "text/plain": [
       "str_iterator"
      ]
     },
     "execution_count": 67,
     "metadata": {},
     "output_type": "execute_result"
    }
   ],
   "source": [
    "text_1= \"I am learning Iterable and Iterator\"\n",
    "print(\"Before type casting\")\n",
    "print()\n",
    "print(type(text_1)) # before type casting\n",
    "print(\"*\"*80)\n",
    "print(\"After type casting\")\n",
    "text_1= iter(text_1)\n",
    "type(text_1) \n",
    "\n"
   ]
  },
  {
   "cell_type": "code",
   "execution_count": 72,
   "id": "a6e7e54f",
   "metadata": {},
   "outputs": [
    {
     "name": "stdout",
     "output_type": "stream",
     "text": [
      "T\n",
      "h\n",
      "i\n",
      "s\n",
      " \n",
      "w\n",
      "o\n",
      "r\n"
     ]
    }
   ],
   "source": [
    "# create the function \n",
    "\n",
    "def test_4_strinf(n):\n",
    "    n= iter(n)\n",
    "    for i in n:\n",
    "        yield i # make the function a generator function\n",
    "g4= test_3_string(\"This world is Beautiful\") # create the object\n",
    "\n",
    "print(next(g4)) # print first 5 letters of the string \n",
    "print(next(g4))\n",
    "print(next(g4))\n",
    "print(next(g4))\n",
    "print(next(g4))\n",
    "print(next(g4))\n",
    "print(next(g4))\n",
    "print(next(g4)) \n"
   ]
  },
  {
   "cell_type": "markdown",
   "id": "7a54a13e",
   "metadata": {},
   "source": [
    "# Conculsion\n",
    "\n",
    "\n",
    "### [yield] function make a function to a generator function\n",
    "### to print one by one number need to use [next] function\n",
    "### to conver t an iterable to iterator do type casting with [iter] function\n"
   ]
  },
  {
   "cell_type": "code",
   "execution_count": null,
   "id": "75ee6c6e",
   "metadata": {},
   "outputs": [],
   "source": []
  }
 ],
 "metadata": {
  "kernelspec": {
   "display_name": "Python 3 (ipykernel)",
   "language": "python",
   "name": "python3"
  },
  "language_info": {
   "codemirror_mode": {
    "name": "ipython",
    "version": 3
   },
   "file_extension": ".py",
   "mimetype": "text/x-python",
   "name": "python",
   "nbconvert_exporter": "python",
   "pygments_lexer": "ipython3",
   "version": "3.9.13"
  }
 },
 "nbformat": 4,
 "nbformat_minor": 5
}
